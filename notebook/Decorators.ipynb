{
 "cells": [
  {
   "cell_type": "markdown",
   "id": "1e4e9ba8",
   "metadata": {},
   "source": [
    "### A decorator in Python is a function that takes another function as its argument, and returns yet another function. "
   ]
  },
  {
   "cell_type": "code",
   "execution_count": 1,
   "id": "d50013e5",
   "metadata": {},
   "outputs": [],
   "source": [
    "def add_together(a, b):\n",
    "    return a + b"
   ]
  },
  {
   "cell_type": "code",
   "execution_count": 2,
   "id": "16f97410",
   "metadata": {},
   "outputs": [],
   "source": [
    "def decorator_list(fnc):\n",
    "    def inner(list_of_tuples):\n",
    "        return [fnc(val[0], val[1]) for val in list_of_tuples]\n",
    "    return inner"
   ]
  },
  {
   "cell_type": "markdown",
   "id": "504d796b",
   "metadata": {},
   "source": [
    "To apply the decorator, we use the syntax @, followed by the function name of the decorator above the function that is being decorated. This is syntactically the same as:"
   ]
  },
  {
   "cell_type": "code",
   "execution_count": 3,
   "id": "3a546e61",
   "metadata": {},
   "outputs": [],
   "source": [
    "add_together = decorator_list(add_together)"
   ]
  },
  {
   "cell_type": "code",
   "execution_count": 4,
   "id": "15cf4933",
   "metadata": {},
   "outputs": [
    {
     "data": {
      "text/plain": [
       "[4, 20, 10, 13]"
      ]
     },
     "execution_count": 4,
     "metadata": {},
     "output_type": "execute_result"
    }
   ],
   "source": [
    "add_together([(1, 3), (3, 17), (5, 5), (6, 7)])"
   ]
  },
  {
   "cell_type": "code",
   "execution_count": 5,
   "id": "697f8b20",
   "metadata": {},
   "outputs": [
    {
     "ename": "TypeError",
     "evalue": "inner() takes 1 positional argument but 2 were given",
     "output_type": "error",
     "traceback": [
      "\u001b[0;31m---------------------------------------------------------------------------\u001b[0m",
      "\u001b[0;31mTypeError\u001b[0m                                 Traceback (most recent call last)",
      "Input \u001b[0;32mIn [5]\u001b[0m, in \u001b[0;36m<cell line: 2>\u001b[0;34m()\u001b[0m\n\u001b[1;32m      1\u001b[0m add_together \u001b[38;5;241m=\u001b[39m decorator_list(add_together)\n\u001b[0;32m----> 2\u001b[0m \u001b[43madd_together\u001b[49m\u001b[43m(\u001b[49m\u001b[43m[\u001b[49m\u001b[43m(\u001b[49m\u001b[38;5;241;43m1\u001b[39;49m\u001b[43m,\u001b[49m\u001b[43m \u001b[49m\u001b[38;5;241;43m3\u001b[39;49m\u001b[43m)\u001b[49m\u001b[43m,\u001b[49m\u001b[43m \u001b[49m\u001b[43m(\u001b[49m\u001b[38;5;241;43m3\u001b[39;49m\u001b[43m,\u001b[49m\u001b[43m \u001b[49m\u001b[38;5;241;43m17\u001b[39;49m\u001b[43m)\u001b[49m\u001b[43m,\u001b[49m\u001b[43m \u001b[49m\u001b[43m(\u001b[49m\u001b[38;5;241;43m5\u001b[39;49m\u001b[43m,\u001b[49m\u001b[43m \u001b[49m\u001b[38;5;241;43m5\u001b[39;49m\u001b[43m)\u001b[49m\u001b[43m,\u001b[49m\u001b[43m \u001b[49m\u001b[43m(\u001b[49m\u001b[38;5;241;43m6\u001b[39;49m\u001b[43m,\u001b[49m\u001b[43m \u001b[49m\u001b[38;5;241;43m7\u001b[39;49m\u001b[43m)\u001b[49m\u001b[43m]\u001b[49m\u001b[43m)\u001b[49m\n",
      "Input \u001b[0;32mIn [2]\u001b[0m, in \u001b[0;36mdecorator_list.<locals>.inner\u001b[0;34m(list_of_tuples)\u001b[0m\n\u001b[1;32m      2\u001b[0m \u001b[38;5;28;01mdef\u001b[39;00m \u001b[38;5;21minner\u001b[39m(list_of_tuples):\n\u001b[0;32m----> 3\u001b[0m     \u001b[38;5;28;01mreturn\u001b[39;00m [fnc(val[\u001b[38;5;241m0\u001b[39m], val[\u001b[38;5;241m1\u001b[39m]) \u001b[38;5;28;01mfor\u001b[39;00m val \u001b[38;5;129;01min\u001b[39;00m list_of_tuples]\n",
      "Input \u001b[0;32mIn [2]\u001b[0m, in \u001b[0;36m<listcomp>\u001b[0;34m(.0)\u001b[0m\n\u001b[1;32m      2\u001b[0m \u001b[38;5;28;01mdef\u001b[39;00m \u001b[38;5;21minner\u001b[39m(list_of_tuples):\n\u001b[0;32m----> 3\u001b[0m     \u001b[38;5;28;01mreturn\u001b[39;00m [\u001b[43mfnc\u001b[49m\u001b[43m(\u001b[49m\u001b[43mval\u001b[49m\u001b[43m[\u001b[49m\u001b[38;5;241;43m0\u001b[39;49m\u001b[43m]\u001b[49m\u001b[43m,\u001b[49m\u001b[43m \u001b[49m\u001b[43mval\u001b[49m\u001b[43m[\u001b[49m\u001b[38;5;241;43m1\u001b[39;49m\u001b[43m]\u001b[49m\u001b[43m)\u001b[49m \u001b[38;5;28;01mfor\u001b[39;00m val \u001b[38;5;129;01min\u001b[39;00m list_of_tuples]\n",
      "\u001b[0;31mTypeError\u001b[0m: inner() takes 1 positional argument but 2 were given"
     ]
    }
   ],
   "source": [
    "add_together = decorator_list(add_together)\n",
    "add_together([(1, 3), (3, 17), (5, 5), (6, 7)])"
   ]
  },
  {
   "cell_type": "markdown",
   "id": "f892fd44",
   "metadata": {},
   "source": [
    "####  上面那样写会导致add_together产生变化，所以用decorator的形式比较好。"
   ]
  },
  {
   "cell_type": "code",
   "execution_count": 6,
   "id": "8b76674c",
   "metadata": {},
   "outputs": [],
   "source": [
    "@decorator_list\n",
    "def add_together(a, b):\n",
    "    return a + b"
   ]
  },
  {
   "cell_type": "code",
   "execution_count": 7,
   "id": "a31ad108",
   "metadata": {},
   "outputs": [
    {
     "data": {
      "text/plain": [
       "[4, 20, 10, 13]"
      ]
     },
     "execution_count": 7,
     "metadata": {},
     "output_type": "execute_result"
    }
   ],
   "source": [
    "add_together([(1, 3), (3, 17), (5, 5), (6, 7)])"
   ]
  },
  {
   "cell_type": "markdown",
   "id": "10284557",
   "metadata": {},
   "source": [
    "### Decorators that can take arguments themselves"
   ]
  },
  {
   "cell_type": "markdown",
   "id": "8e06bb3a",
   "metadata": {},
   "source": [
    "To use arguments in decorators, we simply need to define a decorator itself. In the example below, 2 is the argument passed to the meta_decorator. This meta_decorator function returns the decorator_list function with 2 passed as the argument to power. This decorator_list decorator is then used in the ordinary way, i.e. it takes the add_together function and returns inner, which we can then call with our list of tuples."
   ]
  },
  {
   "cell_type": "code",
   "execution_count": 9,
   "id": "591a57cb",
   "metadata": {},
   "outputs": [
    {
     "data": {
      "text/plain": [
       "[16, 400, 100, 169]"
      ]
     },
     "execution_count": 9,
     "metadata": {},
     "output_type": "execute_result"
    }
   ],
   "source": [
    "# Part 2\n",
    "def meta_decorator(power):  # This layer will take an argument\n",
    "    def decorator_list(fnc):  # This layer can only take THE argument, which is the function it tries to decorate\n",
    "        def inner(list_of_tuples):  \n",
    "            return [(fnc(val[0], val[1])) ** power for val in list_of_tuples]\n",
    "        return inner\n",
    "    return decorator_list\n",
    "\n",
    "\n",
    "@meta_decorator(2)\n",
    "def add_together(a, b):\n",
    "    return a + b\n",
    "\n",
    "\n",
    "add_together([(1, 3), (3, 17), (5, 5), (6, 7)])"
   ]
  },
  {
   "cell_type": "markdown",
   "id": "531fcb3b",
   "metadata": {},
   "source": [
    "### Default arguments in Decorators"
   ]
  },
  {
   "cell_type": "markdown",
   "id": "db8a69cc",
   "metadata": {},
   "source": [
    "Now we have seen that we can specify arguments to the decorator, we can also specify no arguments to the decorator and a default will be set.\n",
    "\n",
    "If we do not pass any arguments to our decorator, as we are doing with @meta_decorator, args is considered a function.\n",
    "\n",
    "As the built-in callable function with an function passed will return a boolean True, power is assigned the value of 2 and we can directly call the decorated_list function immediately which will return inner.\n",
    "\n",
    "If arg is not a function, but an integer, it is not callable (as would happen in the code that has been commented out). We then move to the else statement which executes its corresponding block. Power is assigned whichever value we pass, we then create the decorator_list function which finally returns inner."
   ]
  },
  {
   "cell_type": "code",
   "execution_count": 10,
   "id": "2a06686e",
   "metadata": {},
   "outputs": [],
   "source": [
    "def meta_decorator(arg):\n",
    "    def decorator_list(fnc):\n",
    "        def inner(list_of_tuples):\n",
    "            return [(fnc(val[0], val[1])) ** power for val in list_of_tuples]\n",
    "        return inner\n",
    "    if callable(arg):  # No decorator arguments, argument is the function\n",
    "        power = 2\n",
    "        return decorator_list(arg)\n",
    "    else:\n",
    "        power = arg\n",
    "        return decorator_list"
   ]
  },
  {
   "cell_type": "code",
   "execution_count": 12,
   "id": "70365ded",
   "metadata": {},
   "outputs": [
    {
     "data": {
      "text/plain": [
       "[16, 400, 100, 169]"
      ]
     },
     "execution_count": 12,
     "metadata": {},
     "output_type": "execute_result"
    }
   ],
   "source": [
    "@meta_decorator\n",
    "def add_together(a, b):\n",
    "    return a + b\n",
    "\n",
    "add_together([(1, 3), (3, 17), (5, 5), (6, 7)])"
   ]
  },
  {
   "cell_type": "code",
   "execution_count": 13,
   "id": "563ce697",
   "metadata": {},
   "outputs": [
    {
     "data": {
      "text/plain": [
       "[64, 8000, 1000, 2197]"
      ]
     },
     "execution_count": 13,
     "metadata": {},
     "output_type": "execute_result"
    }
   ],
   "source": [
    "@meta_decorator(3)\n",
    "def add_together(a, b):\n",
    "    return a + b\n",
    "add_together([(1, 3), (3, 17), (5, 5), (6, 7)])"
   ]
  },
  {
   "cell_type": "markdown",
   "id": "37f014e1",
   "metadata": {},
   "source": [
    "### Summary\n",
    "Decorators are an elegant way to extend functionality of our original functions without altering their source code. Furthermore, the decorators we define can accept arguments or fall back to a set predefined default argument. This article showcases the basics of decorators and how they may be incorporated into our function design."
   ]
  }
 ],
 "metadata": {
  "kernelspec": {
   "display_name": "Eudaimon",
   "language": "python",
   "name": "eudaimon"
  },
  "language_info": {
   "codemirror_mode": {
    "name": "ipython",
    "version": 3
   },
   "file_extension": ".py",
   "mimetype": "text/x-python",
   "name": "python",
   "nbconvert_exporter": "python",
   "pygments_lexer": "ipython3",
   "version": "3.9.7"
  }
 },
 "nbformat": 4,
 "nbformat_minor": 5
}
